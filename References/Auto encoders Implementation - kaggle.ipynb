{
 "cells": [
  {
   "cell_type": "code",
   "execution_count": null,
   "metadata": {},
   "outputs": [],
   "source": [
    "https://www.kaggle.com/vikramtiwari/autoencoders-using-tf-keras-mnist"
   ]
  },
  {
   "cell_type": "code",
   "execution_count": null,
   "metadata": {},
   "outputs": [],
   "source": [
    "Implementations::\n",
    "        a simple autoencoder based on a fully connected layer\n",
    "        a sparse autoencoder\n",
    "        a deep fully-connected autoencoder\n",
    "        a deep convolutional autoencoder\n",
    "        an image denoising model\n",
    "        a sequence-to-sequence autoencoder\n",
    "        a variational autoenoder"
   ]
  },
  {
   "cell_type": "code",
   "execution_count": 2,
   "metadata": {},
   "outputs": [],
   "source": [
    "import tensorflow as tf\n",
    "import numpy as np\n",
    "import pandas as pd\n",
    "import matplotlib.pyplot as plt\n",
    "import os"
   ]
  },
  {
   "cell_type": "code",
   "execution_count": 3,
   "metadata": {},
   "outputs": [],
   "source": [
    "def load_data(path):\n",
    "    with np.load(path) as f:\n",
    "        x_train, y_train = f['x_train'], f['y_train']\n",
    "        x_test, y_test = f['x_test'], f['y_test']\n",
    "        return (x_train, y_train), (x_test, y_test)"
   ]
  },
  {
   "cell_type": "code",
   "execution_count": 4,
   "metadata": {},
   "outputs": [],
   "source": [
    "#Implementing SImple fully onnected autoencoder\n",
    "# this is the siez of our encoded representations\n",
    "ENCODING_DIM = 32\n",
    "\n",
    "# input placeholder\n",
    "input_img = tf.keras.layers.Input(shape=(784,))\n",
    "\n",
    "# this is the encoded representation of the input\n",
    "encoded = tf.keras.layers.Dense(ENCODING_DIM, activation='relu')(input_img)\n",
    "\n",
    "# this is the loss reconstruction of the input\n",
    "decoded = tf.keras.layers.Dense(784, activation='sigmoid')(encoded)\n",
    "\n",
    "# this model maps an input to its recommendation\n",
    "autoencoder = tf.keras.models.Model(input_img, decoded)"
   ]
  },
  {
   "cell_type": "code",
   "execution_count": 5,
   "metadata": {},
   "outputs": [],
   "source": [
    "#Encoding function\n",
    "encoder = tf.keras.models.Model(input_img, encoded)\n",
    "# create a placeholder for an encoded (32-dimensional) input\n",
    "encoded_input = tf.keras.layers.Input(shape=(ENCODING_DIM,))\n",
    "\n",
    "# retrieve the last layer of the autoencoder model\n",
    "decoder_layer = autoencoder.layers[-1]\n",
    "\n",
    "# create the decoder model\n",
    "decoder = tf.keras.models.Model(encoded_input, decoder_layer(encoded_input))"
   ]
  },
  {
   "cell_type": "code",
   "execution_count": 6,
   "metadata": {},
   "outputs": [],
   "source": [
    "autoencoder.compile(optimizer='adadelta', loss='binary_crossentropy')"
   ]
  },
  {
   "cell_type": "code",
   "execution_count": 15,
   "metadata": {},
   "outputs": [],
   "source": [
    "(x_train, y_train), (x_test, y_test) = load_data('mnist.npz')"
   ]
  },
  {
   "cell_type": "code",
   "execution_count": 9,
   "metadata": {},
   "outputs": [
    {
     "data": {
      "text/plain": [
       "dtype('uint8')"
      ]
     },
     "execution_count": 9,
     "metadata": {},
     "output_type": "execute_result"
    }
   ],
   "source": [
    "#Preprocessing Validations & Testings::\n",
    "x_train.dtype"
   ]
  },
  {
   "cell_type": "code",
   "execution_count": 10,
   "metadata": {},
   "outputs": [
    {
     "data": {
      "text/plain": [
       "(60000, 28, 28)"
      ]
     },
     "execution_count": 10,
     "metadata": {},
     "output_type": "execute_result"
    }
   ],
   "source": [
    "x_train.shape"
   ]
  },
  {
   "cell_type": "code",
   "execution_count": 12,
   "metadata": {},
   "outputs": [
    {
     "data": {
      "text/plain": [
       "(60000, 28, 28)"
      ]
     },
     "execution_count": 12,
     "metadata": {},
     "output_type": "execute_result"
    }
   ],
   "source": [
    "x_train = x_train.astype('float32')\n",
    "x_train.shape"
   ]
  },
  {
   "cell_type": "code",
   "execution_count": 13,
   "metadata": {},
   "outputs": [
    {
     "data": {
      "text/plain": [
       "dtype('float32')"
      ]
     },
     "execution_count": 13,
     "metadata": {},
     "output_type": "execute_result"
    }
   ],
   "source": [
    "x_train.dtype"
   ]
  },
  {
   "cell_type": "code",
   "execution_count": 16,
   "metadata": {},
   "outputs": [
    {
     "data": {
      "text/plain": [
       "(60000,)"
      ]
     },
     "execution_count": 16,
     "metadata": {},
     "output_type": "execute_result"
    }
   ],
   "source": [
    "y_train.shape"
   ]
  },
  {
   "cell_type": "code",
   "execution_count": 17,
   "metadata": {},
   "outputs": [
    {
     "data": {
      "text/plain": [
       "(10000, 28, 28)"
      ]
     },
     "execution_count": 17,
     "metadata": {},
     "output_type": "execute_result"
    }
   ],
   "source": [
    "x_test.shape"
   ]
  },
  {
   "cell_type": "code",
   "execution_count": 18,
   "metadata": {},
   "outputs": [
    {
     "data": {
      "text/plain": [
       "dtype('uint8')"
      ]
     },
     "execution_count": 18,
     "metadata": {},
     "output_type": "execute_result"
    }
   ],
   "source": [
    "x_test.dtype"
   ]
  },
  {
   "cell_type": "code",
   "execution_count": 23,
   "metadata": {},
   "outputs": [
    {
     "name": "stdout",
     "output_type": "stream",
     "text": [
      "float32\n",
      "(10000, 28, 28)\n"
     ]
    }
   ],
   "source": [
    "x_test = x_test.astype('float32')\n",
    "print(x_test.dtype)\n",
    "print(x_test.shape)"
   ]
  },
  {
   "cell_type": "code",
   "execution_count": 25,
   "metadata": {},
   "outputs": [],
   "source": [
    "x_train = x_train/255\n",
    "x_test = x_test/255"
   ]
  },
  {
   "cell_type": "code",
   "execution_count": 27,
   "metadata": {},
   "outputs": [
    {
     "name": "stdout",
     "output_type": "stream",
     "text": [
      "(60000, 784)\n",
      "(10000, 784)\n"
     ]
    }
   ],
   "source": [
    "x_train = x_train.reshape((len(x_train), np.prod(x_train.shape[1:])))\n",
    "x_test = x_test.reshape((len(x_test), np.prod(x_test.shape[1:])))\n",
    "print(x_train.shape)\n",
    "print(x_test.shape)"
   ]
  },
  {
   "cell_type": "code",
   "execution_count": 28,
   "metadata": {},
   "outputs": [
    {
     "name": "stdout",
     "output_type": "stream",
     "text": [
      "Train on 60000 samples, validate on 10000 samples\n",
      "Epoch 1/50\n",
      "60000/60000 [==============================] - 5s 80us/sample - loss: 0.6931 - val_loss: 0.6944\n",
      "Epoch 2/50\n",
      "60000/60000 [==============================] - 3s 48us/sample - loss: 0.6930 - val_loss: 0.6943\n",
      "Epoch 3/50\n",
      "60000/60000 [==============================] - 3s 57us/sample - loss: 0.6930 - val_loss: 0.6943\n",
      "Epoch 4/50\n",
      "60000/60000 [==============================] - 3s 48us/sample - loss: 0.6929 - val_loss: 0.6942\n",
      "Epoch 5/50\n",
      "60000/60000 [==============================] - 2s 40us/sample - loss: 0.6928 - val_loss: 0.6941\n",
      "Epoch 6/50\n",
      "60000/60000 [==============================] - 3s 48us/sample - loss: 0.6927 - val_loss: 0.6941\n",
      "Epoch 7/50\n",
      "60000/60000 [==============================] - 3s 43us/sample - loss: 0.6926 - val_loss: 0.6940\n",
      "Epoch 8/50\n",
      "60000/60000 [==============================] - 2s 41us/sample - loss: 0.6926 - val_loss: 0.6940\n",
      "Epoch 9/50\n",
      "60000/60000 [==============================] - 2s 40us/sample - loss: 0.6925 - val_loss: 0.6939\n",
      "Epoch 10/50\n",
      "60000/60000 [==============================] - 3s 43us/sample - loss: 0.6924 - val_loss: 0.6939\n",
      "Epoch 11/50\n",
      "60000/60000 [==============================] - 3s 43us/sample - loss: 0.6923 - val_loss: 0.6938\n",
      "Epoch 12/50\n",
      "60000/60000 [==============================] - 3s 42us/sample - loss: 0.6923 - val_loss: 0.6937\n",
      "Epoch 13/50\n",
      "60000/60000 [==============================] - 3s 52us/sample - loss: 0.6922 - val_loss: 0.6937\n",
      "Epoch 14/50\n",
      "60000/60000 [==============================] - 4s 68us/sample - loss: 0.6921 - val_loss: 0.6936\n",
      "Epoch 15/50\n",
      "60000/60000 [==============================] - 4s 62us/sample - loss: 0.6920 - val_loss: 0.6936\n",
      "Epoch 16/50\n",
      "60000/60000 [==============================] - 4s 63us/sample - loss: 0.6920 - val_loss: 0.6935\n",
      "Epoch 17/50\n",
      "60000/60000 [==============================] - 3s 58us/sample - loss: 0.6919 - val_loss: 0.6935\n",
      "Epoch 18/50\n",
      "60000/60000 [==============================] - 3s 55us/sample - loss: 0.6918 - val_loss: 0.6934\n",
      "Epoch 19/50\n",
      "60000/60000 [==============================] - 3s 55us/sample - loss: 0.6917 - val_loss: 0.6933\n",
      "Epoch 20/50\n",
      "60000/60000 [==============================] - 3s 45us/sample - loss: 0.6917 - val_loss: 0.6933\n",
      "Epoch 21/50\n",
      "60000/60000 [==============================] - 3s 52us/sample - loss: 0.6916 - val_loss: 0.6932\n",
      "Epoch 22/50\n",
      "60000/60000 [==============================] - 3s 49us/sample - loss: 0.6915 - val_loss: 0.6932\n",
      "Epoch 23/50\n",
      "60000/60000 [==============================] - 3s 48us/sample - loss: 0.6914 - val_loss: 0.6931\n",
      "Epoch 24/50\n",
      "60000/60000 [==============================] - 3s 52us/sample - loss: 0.6913 - val_loss: 0.6931\n",
      "Epoch 25/50\n",
      "60000/60000 [==============================] - 3s 46us/sample - loss: 0.6913 - val_loss: 0.6930\n",
      "Epoch 26/50\n",
      "60000/60000 [==============================] - 3s 46us/sample - loss: 0.6912 - val_loss: 0.6929\n",
      "Epoch 27/50\n",
      "60000/60000 [==============================] - 3s 46us/sample - loss: 0.6911 - val_loss: 0.6929\n",
      "Epoch 28/50\n",
      "60000/60000 [==============================] - 3s 53us/sample - loss: 0.6910 - val_loss: 0.6928\n",
      "Epoch 29/50\n",
      "60000/60000 [==============================] - 3s 48us/sample - loss: 0.6910 - val_loss: 0.6928\n",
      "Epoch 30/50\n",
      "60000/60000 [==============================] - 3s 44us/sample - loss: 0.6909 - val_loss: 0.6927\n",
      "Epoch 31/50\n",
      "60000/60000 [==============================] - 3s 42us/sample - loss: 0.6908 - val_loss: 0.6927\n",
      "Epoch 32/50\n",
      "60000/60000 [==============================] - 3s 42us/sample - loss: 0.6907 - val_loss: 0.6926\n",
      "Epoch 33/50\n",
      "60000/60000 [==============================] - 3s 43us/sample - loss: 0.6907 - val_loss: 0.6925\n",
      "Epoch 34/50\n",
      "60000/60000 [==============================] - 3s 42us/sample - loss: 0.6906 - val_loss: 0.6925\n",
      "Epoch 35/50\n",
      "60000/60000 [==============================] - 3s 46us/sample - loss: 0.6905 - val_loss: 0.6924\n",
      "Epoch 36/50\n",
      "60000/60000 [==============================] - 3s 49us/sample - loss: 0.6904 - val_loss: 0.6924\n",
      "Epoch 37/50\n",
      "60000/60000 [==============================] - 3s 48us/sample - loss: 0.6904 - val_loss: 0.6923\n",
      "Epoch 38/50\n",
      "60000/60000 [==============================] - 3s 47us/sample - loss: 0.6903 - val_loss: 0.6923\n",
      "Epoch 39/50\n",
      "60000/60000 [==============================] - 3s 46us/sample - loss: 0.6902 - val_loss: 0.6922\n",
      "Epoch 40/50\n",
      "60000/60000 [==============================] - 3s 47us/sample - loss: 0.6901 - val_loss: 0.6921\n",
      "Epoch 41/50\n",
      "60000/60000 [==============================] - 3s 46us/sample - loss: 0.6900 - val_loss: 0.6921\n",
      "Epoch 42/50\n",
      "60000/60000 [==============================] - 3s 47us/sample - loss: 0.6900 - val_loss: 0.6920\n",
      "Epoch 43/50\n",
      "60000/60000 [==============================] - 3s 46us/sample - loss: 0.6899 - val_loss: 0.6920\n",
      "Epoch 44/50\n",
      "60000/60000 [==============================] - 3s 47us/sample - loss: 0.6898 - val_loss: 0.6919\n",
      "Epoch 45/50\n",
      "60000/60000 [==============================] - 3s 46us/sample - loss: 0.6897 - val_loss: 0.6919\n",
      "Epoch 46/50\n",
      "60000/60000 [==============================] - 3s 47us/sample - loss: 0.6897 - val_loss: 0.6918\n",
      "Epoch 47/50\n",
      "60000/60000 [==============================] - 3s 46us/sample - loss: 0.6896 - val_loss: 0.6917\n",
      "Epoch 48/50\n",
      "60000/60000 [==============================] - 3s 45us/sample - loss: 0.6895 - val_loss: 0.6917\n",
      "Epoch 49/50\n",
      "60000/60000 [==============================] - 3s 46us/sample - loss: 0.6894 - val_loss: 0.6916\n",
      "Epoch 50/50\n",
      "60000/60000 [==============================] - 3s 45us/sample - loss: 0.6894 - val_loss: 0.6916\n"
     ]
    },
    {
     "data": {
      "text/plain": [
       "<tensorflow.python.keras.callbacks.History at 0x7fad2fabe810>"
      ]
     },
     "execution_count": 28,
     "metadata": {},
     "output_type": "execute_result"
    }
   ],
   "source": [
    "autoencoder.fit(x_train, x_train, epochs=50, batch_size=256, shuffle=True, validation_data=(x_test, x_test))"
   ]
  },
  {
   "cell_type": "code",
   "execution_count": 29,
   "metadata": {},
   "outputs": [],
   "source": [
    "encoded_imgs = encoder.predict(x_test)\n",
    "decoded_imgs = decoder.predict(encoded_imgs)"
   ]
  },
  {
   "cell_type": "code",
   "execution_count": 34,
   "metadata": {},
   "outputs": [
    {
     "data": {
      "image/png": "[encoded data removed]",
      "text/plain": [
       "<Figure size 1440x288 with 20 Axes>"
      ]
     },
     "metadata": {
      "needs_background": "light"
     },
     "output_type": "display_data"
    }
   ],
   "source": [
    "n = 10 # how many images we will display\n",
    "plt.figure(figsize=(20, 4))\n",
    "for i in range(n):\n",
    "    # display original\n",
    "    ax = plt.subplot(2, n, i + 1)\n",
    "    plt.imshow(x_test[i].reshape(28, 28))\n",
    "    plt.gray()\n",
    "    # display reconstruction\n",
    "    ax = plt.subplot(2, n, i + 1 + n)\n",
    "    plt.imshow(decoded_imgs[i].reshape(28, 28))\n",
    "    plt.gray()\n",
    "\n",
    "plt.show()"
   ]
  },
  {
   "cell_type": "code",
   "execution_count": 31,
   "metadata": {},
   "outputs": [],
   "source": [
    "plt.show()"
   ]
  },
  {
   "cell_type": "code",
   "execution_count": 35,
   "metadata": {},
   "outputs": [
    {
     "name": "stdout",
     "output_type": "stream",
     "text": [
      "Train on 60000 samples, validate on 10000 samples\n",
      "Epoch 1/100\n",
      "60000/60000 [==============================] - 4s 69us/sample - loss: 0.6931 - val_loss: 0.6936\n",
      "Epoch 2/100\n",
      "60000/60000 [==============================] - 3s 50us/sample - loss: 0.6930 - val_loss: 0.6936\n",
      "Epoch 3/100\n",
      "60000/60000 [==============================] - 4s 68us/sample - loss: 0.6930 - val_loss: 0.6935\n",
      "Epoch 4/100\n",
      "60000/60000 [==============================] - 3s 49us/sample - loss: 0.6929 - val_loss: 0.6934\n",
      "Epoch 5/100\n",
      "60000/60000 [==============================] - 3s 57us/sample - loss: 0.6928 - val_loss: 0.6934\n",
      "Epoch 6/100\n",
      "60000/60000 [==============================] - 3s 57us/sample - loss: 0.6927 - val_loss: 0.6933\n",
      "Epoch 7/100\n",
      "60000/60000 [==============================] - 3s 53us/sample - loss: 0.6926 - val_loss: 0.6933\n",
      "Epoch 8/100\n",
      "60000/60000 [==============================] - 3s 51us/sample - loss: 0.6926 - val_loss: 0.6932\n",
      "Epoch 9/100\n",
      "60000/60000 [==============================] - 4s 59us/sample - loss: 0.6925 - val_loss: 0.6931\n",
      "Epoch 10/100\n",
      "60000/60000 [==============================] - 4s 69us/sample - loss: 0.6924 - val_loss: 0.6931\n",
      "Epoch 11/100\n",
      "60000/60000 [==============================] - 2s 41us/sample - loss: 0.6923 - val_loss: 0.6930\n",
      "Epoch 12/100\n",
      "60000/60000 [==============================] - 2s 41us/sample - loss: 0.6922 - val_loss: 0.6930\n",
      "Epoch 13/100\n",
      "60000/60000 [==============================] - 2s 40us/sample - loss: 0.6922 - val_loss: 0.6929\n",
      "Epoch 14/100\n",
      "60000/60000 [==============================] - 3s 43us/sample - loss: 0.6921 - val_loss: 0.6929\n",
      "Epoch 15/100\n",
      "60000/60000 [==============================] - 3s 48us/sample - loss: 0.6920 - val_loss: 0.6928\n",
      "Epoch 16/100\n",
      "60000/60000 [==============================] - 3s 48us/sample - loss: 0.6919 - val_loss: 0.6927\n",
      "Epoch 17/100\n",
      "60000/60000 [==============================] - 3s 45us/sample - loss: 0.6918 - val_loss: 0.6927\n",
      "Epoch 18/100\n",
      "60000/60000 [==============================] - 3s 46us/sample - loss: 0.6918 - val_loss: 0.6926\n",
      "Epoch 19/100\n",
      "60000/60000 [==============================] - 4s 65us/sample - loss: 0.6917 - val_loss: 0.6926\n",
      "Epoch 20/100\n",
      "60000/60000 [==============================] - 3s 54us/sample - loss: 0.6916 - val_loss: 0.6925\n",
      "Epoch 21/100\n",
      "60000/60000 [==============================] - 3s 48us/sample - loss: 0.6915 - val_loss: 0.6925\n",
      "Epoch 22/100\n",
      "60000/60000 [==============================] - 3s 54us/sample - loss: 0.6915 - val_loss: 0.6924\n",
      "Epoch 23/100\n",
      "60000/60000 [==============================] - 3s 44us/sample - loss: 0.6914 - val_loss: 0.6923\n",
      "Epoch 24/100\n",
      "60000/60000 [==============================] - 3s 42us/sample - loss: 0.6913 - val_loss: 0.6923\n",
      "Epoch 25/100\n",
      "60000/60000 [==============================] - 2s 41us/sample - loss: 0.6912 - val_loss: 0.6922\n",
      "Epoch 26/100\n",
      "60000/60000 [==============================] - 3s 55us/sample - loss: 0.6911 - val_loss: 0.6922\n",
      "Epoch 27/100\n",
      "60000/60000 [==============================] - 3s 42us/sample - loss: 0.6911 - val_loss: 0.6921\n",
      "Epoch 28/100\n",
      "60000/60000 [==============================] - 2s 40us/sample - loss: 0.6910 - val_loss: 0.6920\n",
      "Epoch 29/100\n",
      "60000/60000 [==============================] - 2s 39us/sample - loss: 0.6909 - val_loss: 0.6920\n",
      "Epoch 30/100\n",
      "60000/60000 [==============================] - 2s 40us/sample - loss: 0.6908 - val_loss: 0.6919\n",
      "Epoch 31/100\n",
      "60000/60000 [==============================] - 2s 40us/sample - loss: 0.6907 - val_loss: 0.6919\n",
      "Epoch 32/100\n",
      "60000/60000 [==============================] - 2s 40us/sample - loss: 0.6907 - val_loss: 0.6918\n",
      "Epoch 33/100\n",
      "60000/60000 [==============================] - 2s 40us/sample - loss: 0.6906 - val_loss: 0.6918\n",
      "Epoch 34/100\n",
      "60000/60000 [==============================] - 2s 40us/sample - loss: 0.6905 - val_loss: 0.6917\n",
      "Epoch 35/100\n",
      "60000/60000 [==============================] - 2s 40us/sample - loss: 0.6904 - val_loss: 0.6916\n",
      "Epoch 36/100\n",
      "60000/60000 [==============================] - 3s 46us/sample - loss: 0.6903 - val_loss: 0.6916\n",
      "Epoch 37/100\n",
      "60000/60000 [==============================] - 3s 51us/sample - loss: 0.6903 - val_loss: 0.6915\n",
      "Epoch 38/100\n",
      "60000/60000 [==============================] - 3s 52us/sample - loss: 0.6902 - val_loss: 0.6915\n",
      "Epoch 39/100\n",
      "60000/60000 [==============================] - 3s 50us/sample - loss: 0.6901 - val_loss: 0.6914\n",
      "Epoch 40/100\n",
      "60000/60000 [==============================] - 3s 49us/sample - loss: 0.6900 - val_loss: 0.6913\n",
      "Epoch 41/100\n",
      "60000/60000 [==============================] - 3s 48us/sample - loss: 0.6899 - val_loss: 0.6913\n",
      "Epoch 42/100\n",
      "60000/60000 [==============================] - 4s 60us/sample - loss: 0.6899 - val_loss: 0.6912\n",
      "Epoch 43/100\n",
      "60000/60000 [==============================] - 3s 50us/sample - loss: 0.6898 - val_loss: 0.6912\n",
      "Epoch 44/100\n",
      "60000/60000 [==============================] - 3s 51us/sample - loss: 0.6897 - val_loss: 0.6911\n",
      "Epoch 45/100\n",
      "60000/60000 [==============================] - 3s 57us/sample - loss: 0.6896 - val_loss: 0.6911\n",
      "Epoch 46/100\n",
      "60000/60000 [==============================] - 3s 49us/sample - loss: 0.6895 - val_loss: 0.6910\n",
      "Epoch 47/100\n",
      "60000/60000 [==============================] - 3s 50us/sample - loss: 0.6895 - val_loss: 0.6909\n",
      "Epoch 48/100\n",
      "60000/60000 [==============================] - 4s 59us/sample - loss: 0.6894 - val_loss: 0.6909\n",
      "Epoch 49/100\n",
      "60000/60000 [==============================] - 4s 59us/sample - loss: 0.6893 - val_loss: 0.6908\n",
      "Epoch 50/100\n",
      "60000/60000 [==============================] - 3s 47us/sample - loss: 0.6892 - val_loss: 0.6908\n",
      "Epoch 51/100\n",
      "60000/60000 [==============================] - 3s 46us/sample - loss: 0.6892 - val_loss: 0.6907\n",
      "Epoch 52/100\n",
      "60000/60000 [==============================] - 3s 46us/sample - loss: 0.6891 - val_loss: 0.6906\n",
      "Epoch 53/100\n",
      "60000/60000 [==============================] - 3s 46us/sample - loss: 0.6890 - val_loss: 0.6906\n",
      "Epoch 54/100\n",
      "60000/60000 [==============================] - 3s 45us/sample - loss: 0.6889 - val_loss: 0.6905\n",
      "Epoch 55/100\n",
      "60000/60000 [==============================] - 3s 46us/sample - loss: 0.6888 - val_loss: 0.6905\n",
      "Epoch 56/100\n",
      "60000/60000 [==============================] - 3s 46us/sample - loss: 0.6888 - val_loss: 0.6904\n",
      "Epoch 57/100\n",
      "60000/60000 [==============================] - 3s 46us/sample - loss: 0.6887 - val_loss: 0.6903\n",
      "Epoch 58/100\n",
      "60000/60000 [==============================] - 3s 46us/sample - loss: 0.6886 - val_loss: 0.6903\n",
      "Epoch 59/100\n",
      "60000/60000 [==============================] - 3s 46us/sample - loss: 0.6885 - val_loss: 0.6902\n",
      "Epoch 60/100\n",
      "60000/60000 [==============================] - 3s 46us/sample - loss: 0.6884 - val_loss: 0.6902\n",
      "Epoch 61/100\n",
      "60000/60000 [==============================] - 3s 46us/sample - loss: 0.6884 - val_loss: 0.6901\n",
      "Epoch 62/100\n",
      "60000/60000 [==============================] - 3s 46us/sample - loss: 0.6883 - val_loss: 0.6901\n",
      "Epoch 63/100\n",
      "60000/60000 [==============================] - 3s 48us/sample - loss: 0.6882 - val_loss: 0.6900\n",
      "Epoch 64/100\n",
      "60000/60000 [==============================] - 3s 48us/sample - loss: 0.6881 - val_loss: 0.6899\n",
      "Epoch 65/100\n",
      "60000/60000 [==============================] - 4s 67us/sample - loss: 0.6880 - val_loss: 0.6899\n",
      "Epoch 66/100\n",
      "60000/60000 [==============================] - 3s 46us/sample - loss: 0.6880 - val_loss: 0.6898\n",
      "Epoch 67/100\n",
      "60000/60000 [==============================] - 3s 44us/sample - loss: 0.6879 - val_loss: 0.6898\n",
      "Epoch 68/100\n",
      "60000/60000 [==============================] - 3s 43us/sample - loss: 0.6878 - val_loss: 0.6897\n",
      "Epoch 69/100\n",
      "60000/60000 [==============================] - 3s 43us/sample - loss: 0.6877 - val_loss: 0.6896\n",
      "Epoch 70/100\n",
      "60000/60000 [==============================] - 3s 43us/sample - loss: 0.6876 - val_loss: 0.6896\n",
      "Epoch 71/100\n",
      "60000/60000 [==============================] - 3s 42us/sample - loss: 0.6876 - val_loss: 0.6895\n",
      "Epoch 72/100\n",
      "60000/60000 [==============================] - 3s 42us/sample - loss: 0.6875 - val_loss: 0.6895\n",
      "Epoch 73/100\n",
      "60000/60000 [==============================] - 3s 49us/sample - loss: 0.6874 - val_loss: 0.6894\n",
      "Epoch 74/100\n",
      "60000/60000 [==============================] - 3s 54us/sample - loss: 0.6873 - val_loss: 0.6893\n",
      "Epoch 75/100\n",
      "60000/60000 [==============================] - 3s 52us/sample - loss: 0.6872 - val_loss: 0.6893\n"
     ]
    },
    {
     "name": "stdout",
     "output_type": "stream",
     "text": [
      "Epoch 76/100\n",
      "60000/60000 [==============================] - 3s 56us/sample - loss: 0.6872 - val_loss: 0.6892\n",
      "Epoch 77/100\n",
      "60000/60000 [==============================] - 3s 44us/sample - loss: 0.6871 - val_loss: 0.6892\n",
      "Epoch 78/100\n",
      "60000/60000 [==============================] - 3s 45us/sample - loss: 0.6870 - val_loss: 0.6891\n",
      "Epoch 79/100\n",
      "60000/60000 [==============================] - 3s 48us/sample - loss: 0.6869 - val_loss: 0.6890\n",
      "Epoch 80/100\n",
      "60000/60000 [==============================] - 3s 44us/sample - loss: 0.6869 - val_loss: 0.6890\n",
      "Epoch 81/100\n",
      "60000/60000 [==============================] - 3s 45us/sample - loss: 0.6868 - val_loss: 0.6889\n",
      "Epoch 82/100\n",
      "60000/60000 [==============================] - 3s 49us/sample - loss: 0.6867 - val_loss: 0.6889\n",
      "Epoch 83/100\n",
      "60000/60000 [==============================] - 3s 45us/sample - loss: 0.6866 - val_loss: 0.6888\n",
      "Epoch 84/100\n",
      "60000/60000 [==============================] - 3s 50us/sample - loss: 0.6865 - val_loss: 0.6887\n",
      "Epoch 85/100\n",
      "60000/60000 [==============================] - 3s 43us/sample - loss: 0.6865 - val_loss: 0.6887\n",
      "Epoch 86/100\n",
      "60000/60000 [==============================] - 3s 42us/sample - loss: 0.6864 - val_loss: 0.6886\n",
      "Epoch 87/100\n",
      "60000/60000 [==============================] - 3s 42us/sample - loss: 0.6863 - val_loss: 0.6886\n",
      "Epoch 88/100\n",
      "60000/60000 [==============================] - 3s 42us/sample - loss: 0.6862 - val_loss: 0.6885\n",
      "Epoch 89/100\n",
      "60000/60000 [==============================] - 3s 42us/sample - loss: 0.6861 - val_loss: 0.6884\n",
      "Epoch 90/100\n",
      "60000/60000 [==============================] - 3s 42us/sample - loss: 0.6861 - val_loss: 0.6884\n",
      "Epoch 91/100\n",
      "60000/60000 [==============================] - 3s 44us/sample - loss: 0.6860 - val_loss: 0.6883\n",
      "Epoch 92/100\n",
      "60000/60000 [==============================] - 3s 43us/sample - loss: 0.6859 - val_loss: 0.6883\n",
      "Epoch 93/100\n",
      "60000/60000 [==============================] - 3s 43us/sample - loss: 0.6858 - val_loss: 0.6882\n",
      "Epoch 94/100\n",
      "60000/60000 [==============================] - 3s 44us/sample - loss: 0.6857 - val_loss: 0.6881\n",
      "Epoch 95/100\n",
      "60000/60000 [==============================] - 3s 49us/sample - loss: 0.6857 - val_loss: 0.6881\n",
      "Epoch 96/100\n",
      "60000/60000 [==============================] - 3s 42us/sample - loss: 0.6856 - val_loss: 0.6880\n",
      "Epoch 97/100\n",
      "60000/60000 [==============================] - 3s 48us/sample - loss: 0.6855 - val_loss: 0.6880\n",
      "Epoch 98/100\n",
      "60000/60000 [==============================] - 3s 48us/sample - loss: 0.6854 - val_loss: 0.6879\n",
      "Epoch 99/100\n",
      "60000/60000 [==============================] - 3s 43us/sample - loss: 0.6853 - val_loss: 0.6878\n",
      "Epoch 100/100\n",
      "60000/60000 [==============================] - 3s 43us/sample - loss: 0.6853 - val_loss: 0.6878\n"
     ]
    },
    {
     "data": {
      "text/plain": [
       "<tensorflow.python.keras.callbacks.History at 0x7fad2f414f50>"
      ]
     },
     "execution_count": 35,
     "metadata": {},
     "output_type": "execute_result"
    }
   ],
   "source": [
    "#Here will add activity regularizer  ==> for sparsity constraints on encoded representations\n",
    "ENCODING_DIM = 32\n",
    "\n",
    "input_img = tf.keras.layers.Input(shape=(784,))\n",
    "\n",
    "# add a dense layer with L1 activity regularizer\n",
    "encoded = tf.keras.layers.Dense(ENCODING_DIM, activation='relu', activity_regularizer=tf.keras.regularizers.l1(10e-5))(input_img)\n",
    "decoded = tf.keras.layers.Dense(784, activation='sigmoid')(encoded)\n",
    "autoencoder = tf.keras.models.Model(input_img, decoded)\n",
    "autoencoder.compile(optimizer='adadelta', loss='binary_crossentropy')\n",
    "\n",
    "# now let's train this for 100 epochs (with added regularization, the model is less likely to overfit and can be trained longer). The model ends with a train loss of 0.11 and test loss of 0.10. The difference is mostly due to the regularization term being added to the loss during training\n",
    "autoencoder.fit(x_train, x_train, epochs=100, batch_size=256, shuffle=True, validation_data=(x_test, x_test))"
   ]
  },
  {
   "cell_type": "code",
   "execution_count": 36,
   "metadata": {},
   "outputs": [
    {
     "data": {
      "image/png": "[encoded data removed]",
      "text/plain": [
       "<Figure size 1440x288 with 20 Axes>"
      ]
     },
     "metadata": {
      "needs_background": "light"
     },
     "output_type": "display_data"
    }
   ],
   "source": [
    "n = 10 # how many images we will display\n",
    "plt.figure(figsize=(20, 4))\n",
    "for i in range(n):\n",
    "    # display original\n",
    "    ax = plt.subplot(2, n, i + 1)\n",
    "    plt.imshow(x_test[i].reshape(28, 28))\n",
    "    plt.gray()\n",
    "    # display reconstruction\n",
    "    ax = plt.subplot(2, n, i + 1 + n)\n",
    "    plt.imshow(decoded_imgs[i].reshape(28, 28))\n",
    "    plt.gray()\n",
    "\n",
    "plt.show()"
   ]
  },
  {
   "cell_type": "code",
   "execution_count": 37,
   "metadata": {},
   "outputs": [
    {
     "name": "stdout",
     "output_type": "stream",
     "text": [
      "Train on 60000 samples, validate on 10000 samples\n",
      "Epoch 1/100\n",
      "60000/60000 [==============================] - 6s 96us/sample - loss: 0.6931 - val_loss: 0.6929\n",
      "Epoch 2/100\n",
      "60000/60000 [==============================] - 4s 69us/sample - loss: 0.6930 - val_loss: 0.6928\n",
      "Epoch 3/100\n",
      "60000/60000 [==============================] - 4s 71us/sample - loss: 0.6929 - val_loss: 0.6927\n",
      "Epoch 4/100\n",
      "60000/60000 [==============================] - 5s 91us/sample - loss: 0.6928 - val_loss: 0.6927\n",
      "Epoch 5/100\n",
      "60000/60000 [==============================] - 4s 73us/sample - loss: 0.6927 - val_loss: 0.6926\n",
      "Epoch 6/100\n",
      "60000/60000 [==============================] - 6s 92us/sample - loss: 0.6927 - val_loss: 0.6926\n",
      "Epoch 7/100\n",
      "60000/60000 [==============================] - 5s 85us/sample - loss: 0.6926 - val_loss: 0.6925\n",
      "Epoch 8/100\n",
      "60000/60000 [==============================] - 5s 78us/sample - loss: 0.6925 - val_loss: 0.6924\n",
      "Epoch 9/100\n",
      "60000/60000 [==============================] - 3s 56us/sample - loss: 0.6924 - val_loss: 0.6924\n",
      "Epoch 10/100\n",
      "60000/60000 [==============================] - 4s 67us/sample - loss: 0.6923 - val_loss: 0.6923\n",
      "Epoch 11/100\n",
      "60000/60000 [==============================] - 3s 55us/sample - loss: 0.6922 - val_loss: 0.6922\n",
      "Epoch 12/100\n",
      "60000/60000 [==============================] - 5s 88us/sample - loss: 0.6921 - val_loss: 0.6922\n",
      "Epoch 13/100\n",
      "60000/60000 [==============================] - 5s 86us/sample - loss: 0.6920 - val_loss: 0.6921\n",
      "Epoch 14/100\n",
      "60000/60000 [==============================] - 4s 72us/sample - loss: 0.6919 - val_loss: 0.6920\n",
      "Epoch 15/100\n",
      "60000/60000 [==============================] - 5s 79us/sample - loss: 0.6918 - val_loss: 0.6920\n",
      "Epoch 16/100\n",
      "60000/60000 [==============================] - 5s 77us/sample - loss: 0.6918 - val_loss: 0.6919\n",
      "Epoch 17/100\n",
      "60000/60000 [==============================] - 4s 69us/sample - loss: 0.6917 - val_loss: 0.6919\n",
      "Epoch 18/100\n",
      "60000/60000 [==============================] - 5s 79us/sample - loss: 0.6916 - val_loss: 0.6918\n",
      "Epoch 19/100\n",
      "60000/60000 [==============================] - 4s 68us/sample - loss: 0.6915 - val_loss: 0.6917\n",
      "Epoch 20/100\n",
      "60000/60000 [==============================] - 4s 68us/sample - loss: 0.6914 - val_loss: 0.6917\n",
      "Epoch 21/100\n",
      "60000/60000 [==============================] - 4s 66us/sample - loss: 0.6913 - val_loss: 0.6916\n",
      "Epoch 22/100\n",
      "60000/60000 [==============================] - 4s 66us/sample - loss: 0.6912 - val_loss: 0.6915\n",
      "Epoch 23/100\n",
      "60000/60000 [==============================] - 4s 71us/sample - loss: 0.6911 - val_loss: 0.6915\n",
      "Epoch 24/100\n",
      "60000/60000 [==============================] - 4s 71us/sample - loss: 0.6910 - val_loss: 0.6914\n",
      "Epoch 25/100\n",
      "60000/60000 [==============================] - 4s 62us/sample - loss: 0.6909 - val_loss: 0.6913\n",
      "Epoch 26/100\n",
      "60000/60000 [==============================] - 3s 58us/sample - loss: 0.6908 - val_loss: 0.6913\n",
      "Epoch 27/100\n",
      "60000/60000 [==============================] - 4s 59us/sample - loss: 0.6908 - val_loss: 0.6912\n",
      "Epoch 28/100\n",
      "60000/60000 [==============================] - 4s 62us/sample - loss: 0.6907 - val_loss: 0.6911\n",
      "Epoch 29/100\n",
      "60000/60000 [==============================] - 4s 69us/sample - loss: 0.6906 - val_loss: 0.6911\n",
      "Epoch 30/100\n",
      "60000/60000 [==============================] - 4s 62us/sample - loss: 0.6905 - val_loss: 0.6910\n",
      "Epoch 31/100\n",
      "60000/60000 [==============================] - 4s 61us/sample - loss: 0.6904 - val_loss: 0.6909\n",
      "Epoch 32/100\n",
      "60000/60000 [==============================] - 4s 66us/sample - loss: 0.6903 - val_loss: 0.6909\n",
      "Epoch 33/100\n",
      "60000/60000 [==============================] - 4s 59us/sample - loss: 0.6902 - val_loss: 0.6908\n",
      "Epoch 34/100\n",
      "60000/60000 [==============================] - 4s 74us/sample - loss: 0.6901 - val_loss: 0.6907\n",
      "Epoch 35/100\n",
      "60000/60000 [==============================] - 5s 80us/sample - loss: 0.6900 - val_loss: 0.6907\n",
      "Epoch 36/100\n",
      "60000/60000 [==============================] - 4s 74us/sample - loss: 0.6899 - val_loss: 0.6906\n",
      "Epoch 37/100\n",
      "60000/60000 [==============================] - 4s 69us/sample - loss: 0.6898 - val_loss: 0.6905\n",
      "Epoch 38/100\n",
      "60000/60000 [==============================] - 3s 57us/sample - loss: 0.6898 - val_loss: 0.6905\n",
      "Epoch 39/100\n",
      "60000/60000 [==============================] - 4s 68us/sample - loss: 0.6897 - val_loss: 0.6904\n",
      "Epoch 40/100\n",
      "60000/60000 [==============================] - 4s 74us/sample - loss: 0.6896 - val_loss: 0.6903\n",
      "Epoch 41/100\n",
      "60000/60000 [==============================] - 4s 67us/sample - loss: 0.6895 - val_loss: 0.6903\n",
      "Epoch 42/100\n",
      "60000/60000 [==============================] - 4s 66us/sample - loss: 0.6894 - val_loss: 0.6902\n",
      "Epoch 43/100\n",
      "60000/60000 [==============================] - 4s 71us/sample - loss: 0.6893 - val_loss: 0.6901\n",
      "Epoch 44/100\n",
      "60000/60000 [==============================] - 4s 72us/sample - loss: 0.6892 - val_loss: 0.6901\n",
      "Epoch 45/100\n",
      "60000/60000 [==============================] - 4s 69us/sample - loss: 0.6891 - val_loss: 0.6900\n",
      "Epoch 46/100\n",
      "60000/60000 [==============================] - 5s 81us/sample - loss: 0.6890 - val_loss: 0.6899\n",
      "Epoch 47/100\n",
      "60000/60000 [==============================] - 6s 96us/sample - loss: 0.6889 - val_loss: 0.6899\n",
      "Epoch 48/100\n",
      "60000/60000 [==============================] - 5s 78us/sample - loss: 0.6888 - val_loss: 0.6898\n",
      "Epoch 49/100\n",
      "60000/60000 [==============================] - 5s 89us/sample - loss: 0.6887 - val_loss: 0.6897\n",
      "Epoch 50/100\n",
      "60000/60000 [==============================] - 5s 87us/sample - loss: 0.6886 - val_loss: 0.6897\n",
      "Epoch 51/100\n",
      "60000/60000 [==============================] - 5s 84us/sample - loss: 0.6886 - val_loss: 0.6896\n",
      "Epoch 52/100\n",
      "60000/60000 [==============================] - 5s 82us/sample - loss: 0.6885 - val_loss: 0.6895\n",
      "Epoch 53/100\n",
      "60000/60000 [==============================] - 4s 69us/sample - loss: 0.6884 - val_loss: 0.6895\n",
      "Epoch 54/100\n",
      "60000/60000 [==============================] - 4s 71us/sample - loss: 0.6883 - val_loss: 0.6894\n",
      "Epoch 55/100\n",
      "60000/60000 [==============================] - 5s 84us/sample - loss: 0.6882 - val_loss: 0.6893\n",
      "Epoch 56/100\n",
      "60000/60000 [==============================] - 4s 66us/sample - loss: 0.6881 - val_loss: 0.6893\n",
      "Epoch 57/100\n",
      "60000/60000 [==============================] - 4s 59us/sample - loss: 0.6880 - val_loss: 0.6892\n",
      "Epoch 58/100\n",
      "60000/60000 [==============================] - 4s 75us/sample - loss: 0.6879 - val_loss: 0.6891\n",
      "Epoch 59/100\n",
      "60000/60000 [==============================] - 4s 65us/sample - loss: 0.6878 - val_loss: 0.6890\n",
      "Epoch 60/100\n",
      "60000/60000 [==============================] - 6s 106us/sample - loss: 0.6877 - val_loss: 0.6890\n",
      "Epoch 61/100\n",
      "60000/60000 [==============================] - 4s 72us/sample - loss: 0.6876 - val_loss: 0.6889\n",
      "Epoch 62/100\n",
      "60000/60000 [==============================] - 4s 66us/sample - loss: 0.6875 - val_loss: 0.6888\n",
      "Epoch 63/100\n",
      "60000/60000 [==============================] - 4s 59us/sample - loss: 0.6874 - val_loss: 0.6888\n",
      "Epoch 64/100\n",
      "60000/60000 [==============================] - 5s 81us/sample - loss: 0.6873 - val_loss: 0.6887\n",
      "Epoch 65/100\n",
      "60000/60000 [==============================] - 4s 60us/sample - loss: 0.6872 - val_loss: 0.6886\n",
      "Epoch 66/100\n",
      "60000/60000 [==============================] - 4s 68us/sample - loss: 0.6871 - val_loss: 0.6885\n",
      "Epoch 67/100\n",
      "60000/60000 [==============================] - 4s 64us/sample - loss: 0.6871 - val_loss: 0.6885\n",
      "Epoch 68/100\n",
      "60000/60000 [==============================] - 4s 63us/sample - loss: 0.6870 - val_loss: 0.6884\n",
      "Epoch 69/100\n",
      "60000/60000 [==============================] - 4s 60us/sample - loss: 0.6869 - val_loss: 0.6883\n",
      "Epoch 70/100\n",
      "60000/60000 [==============================] - 4s 60us/sample - loss: 0.6868 - val_loss: 0.6883\n",
      "Epoch 71/100\n",
      "60000/60000 [==============================] - 4s 59us/sample - loss: 0.6867 - val_loss: 0.6882\n",
      "Epoch 72/100\n",
      "60000/60000 [==============================] - 3s 58us/sample - loss: 0.6866 - val_loss: 0.6881\n",
      "Epoch 73/100\n",
      "60000/60000 [==============================] - 4s 67us/sample - loss: 0.6865 - val_loss: 0.6880\n",
      "Epoch 74/100\n",
      "60000/60000 [==============================] - 4s 67us/sample - loss: 0.6864 - val_loss: 0.6880\n",
      "Epoch 75/100\n",
      "60000/60000 [==============================] - 4s 60us/sample - loss: 0.6863 - val_loss: 0.6879\n"
     ]
    },
    {
     "name": "stdout",
     "output_type": "stream",
     "text": [
      "Epoch 76/100\n",
      "60000/60000 [==============================] - 4s 59us/sample - loss: 0.6862 - val_loss: 0.6878\n",
      "Epoch 77/100\n",
      "60000/60000 [==============================] - 3s 58us/sample - loss: 0.6861 - val_loss: 0.6877\n",
      "Epoch 78/100\n",
      "60000/60000 [==============================] - 3s 58us/sample - loss: 0.6860 - val_loss: 0.6877\n",
      "Epoch 79/100\n",
      "60000/60000 [==============================] - 4s 58us/sample - loss: 0.6859 - val_loss: 0.6876\n",
      "Epoch 80/100\n",
      "60000/60000 [==============================] - 4s 58us/sample - loss: 0.6858 - val_loss: 0.6875\n",
      "Epoch 81/100\n",
      "60000/60000 [==============================] - 5s 77us/sample - loss: 0.6857 - val_loss: 0.6875\n",
      "Epoch 82/100\n",
      "60000/60000 [==============================] - 4s 69us/sample - loss: 0.6856 - val_loss: 0.6874\n",
      "Epoch 83/100\n",
      "60000/60000 [==============================] - 4s 65us/sample - loss: 0.6855 - val_loss: 0.6873\n",
      "Epoch 84/100\n",
      "60000/60000 [==============================] - 4s 65us/sample - loss: 0.6854 - val_loss: 0.6872\n",
      "Epoch 85/100\n",
      "60000/60000 [==============================] - 4s 69us/sample - loss: 0.6853 - val_loss: 0.6872\n",
      "Epoch 86/100\n",
      "60000/60000 [==============================] - 5s 78us/sample - loss: 0.6852 - val_loss: 0.6871\n",
      "Epoch 87/100\n",
      "60000/60000 [==============================] - 4s 74us/sample - loss: 0.6851 - val_loss: 0.6870\n",
      "Epoch 88/100\n",
      "60000/60000 [==============================] - 4s 74us/sample - loss: 0.6850 - val_loss: 0.6869\n",
      "Epoch 89/100\n",
      "60000/60000 [==============================] - 4s 64us/sample - loss: 0.6849 - val_loss: 0.6868\n",
      "Epoch 90/100\n",
      "60000/60000 [==============================] - 4s 68us/sample - loss: 0.6848 - val_loss: 0.6868\n",
      "Epoch 91/100\n",
      "60000/60000 [==============================] - 4s 70us/sample - loss: 0.6847 - val_loss: 0.6867\n",
      "Epoch 92/100\n",
      "60000/60000 [==============================] - 4s 72us/sample - loss: 0.6846 - val_loss: 0.6866\n",
      "Epoch 93/100\n",
      "60000/60000 [==============================] - 3s 55us/sample - loss: 0.6845 - val_loss: 0.6865\n",
      "Epoch 94/100\n",
      "60000/60000 [==============================] - 3s 56us/sample - loss: 0.6844 - val_loss: 0.6865\n",
      "Epoch 95/100\n",
      "60000/60000 [==============================] - 3s 56us/sample - loss: 0.6843 - val_loss: 0.6864\n",
      "Epoch 96/100\n",
      "60000/60000 [==============================] - 3s 55us/sample - loss: 0.6842 - val_loss: 0.6863\n",
      "Epoch 97/100\n",
      "60000/60000 [==============================] - 3s 56us/sample - loss: 0.6841 - val_loss: 0.6862\n",
      "Epoch 98/100\n",
      "60000/60000 [==============================] - 3s 56us/sample - loss: 0.6840 - val_loss: 0.6861\n",
      "Epoch 99/100\n",
      "60000/60000 [==============================] - 3s 56us/sample - loss: 0.6839 - val_loss: 0.6861\n",
      "Epoch 100/100\n",
      "60000/60000 [==============================] - 3s 56us/sample - loss: 0.6838 - val_loss: 0.6860\n"
     ]
    },
    {
     "data": {
      "text/plain": [
       "<tensorflow.python.keras.callbacks.History at 0x7fad541e3f90>"
      ]
     },
     "execution_count": 37,
     "metadata": {},
     "output_type": "execute_result"
    }
   ],
   "source": [
    "#Deep Autoencoder implementations\n",
    "input_img = tf.keras.layers.Input(shape=(784,))\n",
    "encoded = tf.keras.layers.Dense(128, activation='relu')(input_img)\n",
    "encoded = tf.keras.layers.Dense(64, activation='relu')(encoded)\n",
    "encoded = tf.keras.layers.Dense(32, activation='relu')(encoded)\n",
    "\n",
    "decoded = tf.keras.layers.Dense(64, activation='relu')(encoded)\n",
    "decoded = tf.keras.layers.Dense(128, activation='relu')(decoded)\n",
    "decoded = tf.keras.layers.Dense(784, activation='sigmoid')(decoded)\n",
    "autoencoder = tf.keras.models.Model(input_img, decoded)\n",
    "autoencoder.compile(optimizer='adadelta', loss='binary_crossentropy')\n",
    "\n",
    "autoencoder.fit(x_train, x_train, epochs=100, batch_size=256, shuffle=True, validation_data=(x_test, x_test))"
   ]
  },
  {
   "cell_type": "code",
   "execution_count": 38,
   "metadata": {},
   "outputs": [
    {
     "data": {
      "image/png": "[encoded data removed]",
      "text/plain": [
       "<Figure size 1440x288 with 20 Axes>"
      ]
     },
     "metadata": {
      "needs_background": "light"
     },
     "output_type": "display_data"
    }
   ],
   "source": [
    "n = 10 # how many images we will display\n",
    "plt.figure(figsize=(20, 4))\n",
    "for i in range(n):\n",
    "    # display original\n",
    "    ax = plt.subplot(2, n, i + 1)\n",
    "    plt.imshow(x_test[i].reshape(28, 28))\n",
    "    plt.gray()\n",
    "    ax.get_xaxis().set_visible(False)\n",
    "    ax.get_yaxis().set_visible(False)\n",
    "    \n",
    "    # display reconstruction\n",
    "    ax = plt.subplot(2, n, i + 1 + n)\n",
    "    plt.imshow(decoded_imgs[i].reshape(28, 28))\n",
    "    plt.gray()\n",
    "    ax.get_xaxis().set_visible(False)\n",
    "    ax.get_yaxis().set_visible(False)\n",
    "\n",
    "plt.show()"
   ]
  },
  {
   "cell_type": "code",
   "execution_count": 39,
   "metadata": {},
   "outputs": [],
   "source": [
    "#Implementing COnvolutional autoencoder..!\n",
    "input_img = tf.keras.layers.Input(shape=(28, 28, 1)) # adapt this if using `channels_first` image data format\n",
    "\n",
    "x = tf.keras.layers.Conv2D(16, (3, 3), activation='relu', padding='same')(input_img)\n",
    "x = tf.keras.layers.MaxPooling2D((2, 2), padding='same')(x)\n",
    "x = tf.keras.layers.Conv2D(8, (3, 3), activation='relu', padding='same')(x)\n",
    "x = tf.keras.layers.MaxPooling2D((2, 2), padding='same')(x)\n",
    "x = tf.keras.layers.Conv2D(8, (3, 3), activation='relu', padding='same')(x)\n",
    "encoded = tf.keras.layers.MaxPooling2D((2, 2), padding='same')(x)\n",
    "\n",
    "# at this point the representation is (4, 4, 8) i.e. 128-dimensional\n",
    "\n",
    "x = tf.keras.layers.Conv2D(8, (3, 3), activation='relu', padding='same')(encoded)\n",
    "x = tf.keras.layers.UpSampling2D((2, 2))(x)\n",
    "x = tf.keras.layers.Conv2D(8, (3, 3), activation='relu', padding='same')(x)\n",
    "x = tf.keras.layers.UpSampling2D((2, 2))(x)\n",
    "x = tf.keras.layers.Conv2D(16, (3, 3), activation='relu')(x)\n",
    "x = tf.keras.layers.UpSampling2D((2, 2))(x)\n",
    "decoded = tf.keras.layers.Conv2D(1, (3, 3), activation='sigmoid', padding='same')(x)\n",
    "\n",
    "autoencoder = tf.keras.models.Model(input_img, decoded)\n",
    "autoencoder.compile(optimizer='adadelta', loss='binary_crossentropy')"
   ]
  },
  {
   "cell_type": "code",
   "execution_count": 41,
   "metadata": {},
   "outputs": [],
   "source": [
    "(x_train, _), (x_test, _) = load_data('mnist.npz')\n",
    "\n",
    "x_train = x_train.astype('float32') / 255.\n",
    "x_test = x_test.astype('float32') / 255.\n",
    "x_train = np.reshape(x_train, (len(x_train), 28, 28, 1))\n",
    "x_test = np.reshape(x_test, (len(x_test), 28, 28, 1))"
   ]
  },
  {
   "cell_type": "code",
   "execution_count": 42,
   "metadata": {},
   "outputs": [
    {
     "name": "stdout",
     "output_type": "stream",
     "text": [
      "Train on 60000 samples, validate on 10000 samples\n",
      "Epoch 1/50\n",
      "60000/60000 [==============================] - 126s 2ms/sample - loss: 0.6947 - val_loss: 0.6938\n",
      "Epoch 2/50\n",
      "60000/60000 [==============================] - 136s 2ms/sample - loss: 0.6928 - val_loss: 0.6917\n",
      "Epoch 3/50\n",
      "60000/60000 [==============================] - 138s 2ms/sample - loss: 0.6905 - val_loss: 0.6893\n",
      "Epoch 4/50\n",
      "60000/60000 [==============================] - 136s 2ms/sample - loss: 0.6877 - val_loss: 0.6861\n",
      "Epoch 5/50\n",
      "60000/60000 [==============================] - 155s 3ms/sample - loss: 0.6838 - val_loss: 0.6813\n",
      "Epoch 6/50\n",
      "60000/60000 [==============================] - 150s 2ms/sample - loss: 0.6775 - val_loss: 0.6727\n",
      "Epoch 7/50\n",
      "60000/60000 [==============================] - 138s 2ms/sample - loss: 0.6638 - val_loss: 0.6517\n",
      "Epoch 8/50\n",
      "60000/60000 [==============================] - 141s 2ms/sample - loss: 0.6259 - val_loss: 0.5888\n",
      "Epoch 9/50\n",
      "60000/60000 [==============================] - 155s 3ms/sample - loss: 0.5252 - val_loss: 0.4708\n",
      "Epoch 10/50\n",
      "60000/60000 [==============================] - 153s 3ms/sample - loss: 0.4508 - val_loss: 0.4435\n",
      "Epoch 11/50\n",
      "60000/60000 [==============================] - 151s 3ms/sample - loss: 0.4326 - val_loss: 0.4281\n",
      "Epoch 12/50\n",
      "60000/60000 [==============================] - 142s 2ms/sample - loss: 0.4172 - val_loss: 0.4118\n",
      "Epoch 13/50\n",
      "60000/60000 [==============================] - 142s 2ms/sample - loss: 0.4000 - val_loss: 0.3925\n",
      "Epoch 14/50\n",
      "60000/60000 [==============================] - 147s 2ms/sample - loss: 0.3792 - val_loss: 0.3696\n",
      "Epoch 15/50\n",
      "60000/60000 [==============================] - 143s 2ms/sample - loss: 0.3561 - val_loss: 0.3464\n",
      "Epoch 16/50\n",
      "60000/60000 [==============================] - 146s 2ms/sample - loss: 0.3343 - val_loss: 0.3257\n",
      "Epoch 17/50\n",
      "60000/60000 [==============================] - 140s 2ms/sample - loss: 0.3152 - val_loss: 0.3082\n",
      "Epoch 18/50\n",
      "60000/60000 [==============================] - 149s 2ms/sample - loss: 0.2999 - val_loss: 0.2949\n",
      "Epoch 19/50\n",
      "60000/60000 [==============================] - 143s 2ms/sample - loss: 0.2883 - val_loss: 0.2846\n",
      "Epoch 20/50\n",
      "60000/60000 [==============================] - 137s 2ms/sample - loss: 0.2792 - val_loss: 0.2764\n",
      "Epoch 21/50\n",
      "60000/60000 [==============================] - 147s 2ms/sample - loss: 0.2719 - val_loss: 0.2698\n",
      "Epoch 22/50\n",
      "60000/60000 [==============================] - 135s 2ms/sample - loss: 0.2661 - val_loss: 0.2645\n",
      "Epoch 23/50\n",
      "60000/60000 [==============================] - 144s 2ms/sample - loss: 0.2612 - val_loss: 0.2601\n",
      "Epoch 24/50\n",
      "60000/60000 [==============================] - 136s 2ms/sample - loss: 0.2572 - val_loss: 0.2563\n",
      "Epoch 25/50\n",
      "60000/60000 [==============================] - 133s 2ms/sample - loss: 0.2538 - val_loss: 0.2531\n",
      "Epoch 26/50\n",
      "60000/60000 [==============================] - 130s 2ms/sample - loss: 0.2509 - val_loss: 0.2504\n",
      "Epoch 27/50\n",
      "60000/60000 [==============================] - 125s 2ms/sample - loss: 0.2484 - val_loss: 0.2480\n",
      "Epoch 28/50\n",
      "60000/60000 [==============================] - 131s 2ms/sample - loss: 0.2462 - val_loss: 0.2459\n",
      "Epoch 29/50\n",
      "60000/60000 [==============================] - 125s 2ms/sample - loss: 0.2442 - val_loss: 0.2440\n",
      "Epoch 30/50\n",
      "60000/60000 [==============================] - 128s 2ms/sample - loss: 0.2424 - val_loss: 0.2423\n",
      "Epoch 31/50\n",
      "60000/60000 [==============================] - 128s 2ms/sample - loss: 0.2408 - val_loss: 0.2408\n",
      "Epoch 32/50\n",
      "60000/60000 [==============================] - 133s 2ms/sample - loss: 0.2394 - val_loss: 0.2393\n",
      "Epoch 33/50\n",
      "60000/60000 [==============================] - 136s 2ms/sample - loss: 0.2380 - val_loss: 0.2380\n",
      "Epoch 34/50\n",
      "60000/60000 [==============================] - 135s 2ms/sample - loss: 0.2367 - val_loss: 0.2367\n",
      "Epoch 35/50\n",
      "60000/60000 [==============================] - 137s 2ms/sample - loss: 0.2355 - val_loss: 0.2355\n",
      "Epoch 36/50\n",
      "60000/60000 [==============================] - 138s 2ms/sample - loss: 0.2343 - val_loss: 0.2343\n",
      "Epoch 37/50\n",
      "60000/60000 [==============================] - 134s 2ms/sample - loss: 0.2331 - val_loss: 0.2331\n",
      "Epoch 38/50\n",
      "60000/60000 [==============================] - 134s 2ms/sample - loss: 0.2320 - val_loss: 0.2320\n",
      "Epoch 39/50\n",
      "60000/60000 [==============================] - 129s 2ms/sample - loss: 0.2309 - val_loss: 0.2309\n",
      "Epoch 40/50\n",
      "60000/60000 [==============================] - 126s 2ms/sample - loss: 0.2298 - val_loss: 0.2298\n",
      "Epoch 41/50\n",
      "60000/60000 [==============================] - 135s 2ms/sample - loss: 0.2288 - val_loss: 0.2288\n",
      "Epoch 42/50\n",
      "60000/60000 [==============================] - 126s 2ms/sample - loss: 0.2277 - val_loss: 0.2277\n",
      "Epoch 43/50\n",
      "60000/60000 [==============================] - 126s 2ms/sample - loss: 0.2267 - val_loss: 0.2267\n",
      "Epoch 44/50\n",
      "60000/60000 [==============================] - 131s 2ms/sample - loss: 0.2257 - val_loss: 0.2257\n",
      "Epoch 45/50\n",
      "60000/60000 [==============================] - 126s 2ms/sample - loss: 0.2247 - val_loss: 0.2247\n",
      "Epoch 46/50\n",
      "60000/60000 [==============================] - 129s 2ms/sample - loss: 0.2238 - val_loss: 0.2238\n",
      "Epoch 47/50\n",
      "60000/60000 [==============================] - 128s 2ms/sample - loss: 0.2229 - val_loss: 0.2228\n",
      "Epoch 48/50\n",
      "60000/60000 [==============================] - 128s 2ms/sample - loss: 0.2220 - val_loss: 0.2220\n",
      "Epoch 49/50\n",
      "60000/60000 [==============================] - 128s 2ms/sample - loss: 0.2211 - val_loss: 0.2211\n",
      "Epoch 50/50\n",
      "60000/60000 [==============================] - 126s 2ms/sample - loss: 0.2203 - val_loss: 0.2202\n"
     ]
    },
    {
     "data": {
      "text/plain": [
       "<tensorflow.python.keras.callbacks.History at 0x7fad2f4a9210>"
      ]
     },
     "execution_count": 42,
     "metadata": {},
     "output_type": "execute_result"
    }
   ],
   "source": [
    "#Using callbacks here..!\n",
    "autoencoder.fit(x_train, x_train, epochs=50, batch_size=128, shuffle=True, validation_data=(x_test, x_test), callbacks=[tf.keras.callbacks.TensorBoard(log_dir='./tmp/autoencoder')])"
   ]
  },
  {
   "cell_type": "code",
   "execution_count": 43,
   "metadata": {},
   "outputs": [
    {
     "data": {
      "image/png": "[encoded data removed]",
      "text/plain": [
       "<Figure size 1440x288 with 20 Axes>"
      ]
     },
     "metadata": {
      "needs_background": "light"
     },
     "output_type": "display_data"
    }
   ],
   "source": [
    "decoded_imgs = autoencoder.predict(x_test)\n",
    "\n",
    "n = 10\n",
    "plt.figure(figsize=(20, 4))\n",
    "for i in range(n):\n",
    "    # display original\n",
    "    ax = plt.subplot(2, n, i + 1)\n",
    "    plt.imshow(x_test[i].reshape(28, 28))\n",
    "    plt.gray()\n",
    "    ax.get_xaxis().set_visible(False)\n",
    "    ax.get_yaxis().set_visible(False)\n",
    "\n",
    "    # display reconstruction\n",
    "    ax = plt.subplot(2, n, i + 1 + n)\n",
    "    plt.imshow(decoded_imgs[i].reshape(28, 28))\n",
    "    plt.gray()\n",
    "    ax.get_xaxis().set_visible(False)\n",
    "    ax.get_yaxis().set_visible(False)\n",
    "plt.show()"
   ]
  },
  {
   "cell_type": "code",
   "execution_count": null,
   "metadata": {},
   "outputs": [],
   "source": []
  },
  {
   "cell_type": "code",
   "execution_count": null,
   "metadata": {},
   "outputs": [],
   "source": []
  },
  {
   "cell_type": "code",
   "execution_count": null,
   "metadata": {},
   "outputs": [],
   "source": []
  },
  {
   "cell_type": "code",
   "execution_count": null,
   "metadata": {},
   "outputs": [],
   "source": []
  },
  {
   "cell_type": "code",
   "execution_count": null,
   "metadata": {},
   "outputs": [],
   "source": []
  },
  {
   "cell_type": "code",
   "execution_count": null,
   "metadata": {},
   "outputs": [],
   "source": []
  }
 ],
 "metadata": {
  "kernelspec": {
   "display_name": "Python 3",
   "language": "python",
   "name": "python3"
  },
  "language_info": {
   "codemirror_mode": {
    "name": "ipython",
    "version": 3
   },
   "file_extension": ".py",
   "mimetype": "text/x-python",
   "name": "python",
   "nbconvert_exporter": "python",
   "pygments_lexer": "ipython3",
   "version": "3.7.4"
  }
 },
 "nbformat": 4,
 "nbformat_minor": 2
}
